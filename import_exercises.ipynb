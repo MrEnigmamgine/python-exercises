{
 "cells": [
  {
   "cell_type": "markdown",
   "metadata": {},
   "source": [
    "1. Import and test 3 of the functions from your functions exercise file. Import each function in a different way:\n",
    "\n",
    "    - Run an interactive python session and import the module. Call the is_vowel function using the . syntax.\n",
    "    - Create a file named import_exericses.py. Within this file, use from to import the calculate_tip function directly. Call this function with values you choose and print the result.\n",
    "    - Create a jupyter notebook named import_exercises.ipynb. Use from to import the get_letter_grade function and give it an alias. Test this function in your notebook.\n",
    "\n",
    "Make sure your code that tests the function imports is run from the same directory that your functions exercise file is in."
   ]
  },
  {
   "cell_type": "code",
   "execution_count": 1,
   "metadata": {},
   "outputs": [
    {
     "name": "stdout",
     "output_type": "stream",
     "text": [
      "False\n",
      "3.58\n",
      "21.49\n",
      "1000000.23\n",
      "[1, 2, 3]\n",
      "is_vowel(\"a\") True\n",
      "1.2\n",
      "A-\n"
     ]
    }
   ],
   "source": [
    "import function_exercises as fe\n",
    "from function_exercises import calculate_tip\n",
    "from function_exercises import get_letter_grade as grade\n",
    "\n",
    "print('is_vowel(\"a\")', fe.is_vowel('a'))\n",
    "print(calculate_tip(.12, 10))\n",
    "print(grade(88))"
   ]
  },
  {
   "cell_type": "markdown",
   "metadata": {},
   "source": [
    "2. Read about and use the itertools module from the python standard library to help you solve the following problems:\n",
    "\n",
    "     - How many different ways can you combine the letters from \"abc\" with the numbers 1, 2, and 3?\n",
    "     - How many different combinations are there of 2 letters from \"abcd\"?\n",
    "     - How many different permutations are there of 2 letters from \"abcd\"?"
   ]
  },
  {
   "cell_type": "code",
   "execution_count": 86,
   "metadata": {},
   "outputs": [
    {
     "name": "stdout",
     "output_type": "stream",
     "text": [
      "24\n",
      "9\n",
      "6\n"
     ]
    }
   ],
   "source": [
    "import itertools\n",
    "\n",
    "permutations = itertools.permutations(['a','b','c','d'])\n",
    "print(len(list(permutations)))\n",
    "\n",
    "combo1 = itertools.product('abc',[1,2,3])\n",
    "print(len(list(combo1)))\n",
    "\n",
    "combo2 = itertools.combinations(['a','b','c','d'], 2)\n",
    "print(len(list(combo2)))\n"
   ]
  },
  {
   "cell_type": "code",
   "execution_count": 84,
   "metadata": {},
   "outputs": [
    {
     "data": {
      "text/plain": [
       "[('a', 'b'),\n",
       " ('a', 'c'),\n",
       " ('a', 1),\n",
       " ('a', 2),\n",
       " ('a', 3),\n",
       " ('b', 'c'),\n",
       " ('b', 1),\n",
       " ('b', 2),\n",
       " ('b', 3),\n",
       " ('c', 1),\n",
       " ('c', 2),\n",
       " ('c', 3),\n",
       " (1, 2),\n",
       " (1, 3),\n",
       " (2, 3)]"
      ]
     },
     "execution_count": 84,
     "metadata": {},
     "output_type": "execute_result"
    }
   ],
   "source": [
    "list(itertools.combinations(['a','b','c',1,2,3], 2))"
   ]
  },
  {
   "cell_type": "markdown",
   "metadata": {},
   "source": [
    "3. Save this file as profiles.json inside of your exercises directory (right click -> save file as...).\n",
    "\n",
    "Use the load function from the json module to open this file.\n",
    "\n",
    "```\n",
    "import json\n",
    "\n",
    "json.load(open('profiles.json'))\n",
    "```\n",
    "Your code should produce a list of dictionaries. Using this data, write some code that calculates and outputs the following information:\n",
    "\n",
    "     - Total number of users\n",
    "     - Number of active users\n",
    "     - Number of inactive users\n",
    "     - Grand total of balances for all users\n",
    "     - Average balance per user\n",
    "     - User with the lowest balance\n",
    "     - User with the highest balance\n",
    "     - Most common favorite fruit\n",
    "     - Least most common favorite fruit\n",
    "     - Total number of unread messages for all users"
   ]
  },
  {
   "cell_type": "code",
   "execution_count": 14,
   "metadata": {},
   "outputs": [
    {
     "data": {
      "text/plain": [
       "{'_id': '54e23c3e46ab53a440b580e8',\n",
       " 'index': 0,\n",
       " 'guid': '9962b468-ef3e-4993-b677-617469bc3008',\n",
       " 'isActive': False,\n",
       " 'balance': '$2,097.02',\n",
       " 'picture': 'http://placehold.it/32x32',\n",
       " 'age': 39,\n",
       " 'eyeColor': 'blue',\n",
       " 'name': 'Hebert Estes',\n",
       " 'gender': 'male',\n",
       " 'company': 'ANDRYX',\n",
       " 'email': 'hebertestes@andryx.com',\n",
       " 'phone': '+1 (866) 456-2268',\n",
       " 'address': '121 Emmons Avenue, Klondike, Kentucky, 5975',\n",
       " 'about': 'Sit cillum deserunt irure laboris tempor fugiat laboris. Amet commodo amet est incididunt. Dolore qui fugiat cillum pariatur dolore excepteur elit ipsum.\\r\\n',\n",
       " 'registered': '2014-11-10T01:44:03 +06:00',\n",
       " 'latitude': -80.157843,\n",
       " 'longitude': 161.93016,\n",
       " 'tags': ['sit', 'occaecat', 'non', 'ea', 'sit', 'laboris', 'exercitation'],\n",
       " 'friends': [{'id': 0, 'name': 'Tanisha Leonard'},\n",
       "  {'id': 1, 'name': 'Dennis Wilson'},\n",
       "  {'id': 2, 'name': 'Lupe Howe'}],\n",
       " 'greeting': 'Hello, Hebert Estes! You have 4 unread messages.',\n",
       " 'favoriteFruit': 'strawberry'}"
      ]
     },
     "execution_count": 14,
     "metadata": {},
     "output_type": "execute_result"
    }
   ],
   "source": [
    "import json\n",
    "from statistics import mean\n",
    "\n",
    "users = json.load(open('profiles.json'))\n",
    "users[0]"
   ]
  },
  {
   "cell_type": "code",
   "execution_count": 87,
   "metadata": {},
   "outputs": [
    {
     "name": "stdout",
     "output_type": "stream",
     "text": [
      "Total number of users: 19\n",
      "Number of active users: 9\n",
      "Number of active users: 10\n",
      "Sum of all balances: $52,667.02\n",
      "Avg of all balances: $2,771.95\n",
      "User with the lowest balance: 54e23c3e0fd8074c2ca52667\n",
      "User with the highest balance: 54e23c3e54e4094147a3b1da\n",
      "Most common favorite fruit: strawberry\n",
      "Least most common favorite fruit: apple\n",
      "Total number of unread messages for all users: 210\n"
     ]
    }
   ],
   "source": [
    "def unstring_usd(str):\n",
    "    return float(str.replace('$','').replace(',',''))\n",
    "\n",
    "def as_currency(amount):\n",
    "    if amount >= 0:\n",
    "        return '${:,.2f}'.format(amount)\n",
    "    else:\n",
    "        return '-${:,.2f}'.format(-amount)\n",
    "\n",
    "def get_user_by_balance(users, flt):\n",
    "    for user in users:\n",
    "        if user['balance'] == as_currency(flt):\n",
    "            return user\n",
    "\n",
    "def most_frequent(lst):\n",
    "    counts = {}\n",
    "    unique_items = set(lst)\n",
    "    for item in unique_items:\n",
    "        counts[item] = lst.count(item)\n",
    "    return max(counts, key=counts.get)\n",
    "\n",
    "def least_frequent(lst):\n",
    "    counts = {}\n",
    "    unique_items = set(lst)\n",
    "    for item in unique_items:\n",
    "        counts[item] = lst.count(item)\n",
    "    return min(counts, key=counts.get)\n",
    "\n",
    "def extract_int(str):\n",
    "    outstr = ''\n",
    "    for l in str:\n",
    "        if l.isnumeric():\n",
    "            outstr += l\n",
    "    return int(outstr)\n",
    "\n",
    "def parse_greeting(user):\n",
    "    greeting = user['greeting']\n",
    "    return (extract_int( greeting ))\n",
    "\n",
    "\n",
    "active_users = [user for user in users if user['isActive'] ]\n",
    "inactive_users = [user for user in users if not user['isActive'] ]\n",
    "all_balances = [unstring_usd(user['balance']) for user in users]\n",
    "all_average = round(mean(all_balances), 2)\n",
    "fruits = [user['favoriteFruit'] for user in users]\n",
    "\n",
    "\n",
    "print('Total number of users:', len(users))\n",
    "print('Number of active users:', len(active_users))\n",
    "print('Number of active users:', len(inactive_users))\n",
    "print('Sum of all balances:', as_currency(sum(all_balances)))\n",
    "print('Avg of all balances:', as_currency(all_average))\n",
    "print('User with the lowest balance:', get_user_by_balance(users, min(all_balances))['_id'])\n",
    "print('User with the highest balance:', get_user_by_balance(users, max(all_balances))['_id'])\n",
    "print('Most common favorite fruit:', most_frequent(fruits) )\n",
    "print('Least most common favorite fruit:', least_frequent(fruits) )\n",
    "print('Total number of unread messages for all users:', sum([parse_greeting(user) for user in users ] ) )\n",
    "\n"
   ]
  },
  {
   "cell_type": "code",
   "execution_count": 45,
   "metadata": {},
   "outputs": [
    {
     "data": {
      "text/plain": [
       "{'apple', 'banana', 'strawberry'}"
      ]
     },
     "execution_count": 45,
     "metadata": {},
     "output_type": "execute_result"
    }
   ],
   "source": [
    "### Scratchpad ###\n",
    "sorted(all_balances)\n",
    "get_user_by_balance(users, min(all_balances))\n",
    "set(fruits)"
   ]
  },
  {
   "cell_type": "code",
   "execution_count": 88,
   "metadata": {},
   "outputs": [
    {
     "data": {
      "text/plain": [
       "'Hebert Estes'"
      ]
     },
     "execution_count": 88,
     "metadata": {},
     "output_type": "execute_result"
    }
   ],
   "source": [
    "# def extract_int(str):\n",
    "#     outstr = ''\n",
    "#     for l in str:\n",
    "#         if l.isnumeric():\n",
    "#             outstr += l\n",
    "#     return int(outstr)\n",
    "\n",
    "# extract_int('Hello, Hebert Estes! You have 4 unread messages.')\n",
    "\n",
    "users[0].get('name')"
   ]
  },
  {
   "cell_type": "code",
   "execution_count": 79,
   "metadata": {},
   "outputs": [],
   "source": []
  }
 ],
 "metadata": {
  "interpreter": {
   "hash": "37b4e1d782780d9803a775659fc8b81e9cc61a0899d4564192c1f7cc3c556e45"
  },
  "kernelspec": {
   "display_name": "Python 3.10.4 64-bit",
   "language": "python",
   "name": "python3"
  },
  "language_info": {
   "codemirror_mode": {
    "name": "ipython",
    "version": 3
   },
   "file_extension": ".py",
   "mimetype": "text/x-python",
   "name": "python",
   "nbconvert_exporter": "python",
   "pygments_lexer": "ipython3",
   "version": "3.10.4"
  },
  "orig_nbformat": 4
 },
 "nbformat": 4,
 "nbformat_minor": 2
}
