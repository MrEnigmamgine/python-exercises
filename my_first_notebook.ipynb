{
 "cells": [
  {
   "cell_type": "code",
   "execution_count": 1,
   "id": "9c215ce6",
   "metadata": {},
   "outputs": [],
   "source": [
    "shortcut1 = \"Ctrl-Shift-Minus : split cell at cursor(s)\"\n",
    "shortcut2 = \"Alt-Enter: run cell and insert below\""
   ]
  },
  {
   "cell_type": "code",
   "execution_count": 3,
   "id": "fe299adc",
   "metadata": {},
   "outputs": [],
   "source": [
    "shortcut3 = \"Ctrl-Shift-P: open the command palette\""
   ]
  },
  {
   "cell_type": "code",
   "execution_count": 4,
   "id": "0f40cae9",
   "metadata": {},
   "outputs": [
    {
     "name": "stdout",
     "output_type": "stream",
     "text": [
      "Ctrl-Shift-Minus : split cell at cursor(s)\n",
      "Alt-Enter: run cell and insert below\n",
      "Ctrl-Shift-P: open the command palette\n"
     ]
    }
   ],
   "source": [
    "print(shortcut1)\n",
    "print(shortcut2)\n",
    "print(shortcut3)"
   ]
  }
 ],
 "metadata": {
  "kernelspec": {
   "display_name": "Python 3 (ipykernel)",
   "language": "python",
   "name": "python3"
  },
  "language_info": {
   "codemirror_mode": {
    "name": "ipython",
    "version": 3
   },
   "file_extension": ".py",
   "mimetype": "text/x-python",
   "name": "python",
   "nbconvert_exporter": "python",
   "pygments_lexer": "ipython3",
   "version": "3.10.4"
  }
 },
 "nbformat": 4,
 "nbformat_minor": 5
}
