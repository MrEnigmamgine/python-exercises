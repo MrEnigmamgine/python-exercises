{
 "cells": [
  {
   "cell_type": "markdown",
   "metadata": {},
   "source": [
    "### 1. Conditional Basics\n",
    "\n",
    "- prompt the user for a day of the week, print out whether the day is Monday or not\n",
    "\n",
    "- prompt the user for a day of the week, print out whether the day is a weekday or a weekend\n",
    "\n",
    "- create variables and make up values for\n",
    "- - the number of hours worked in one week\n",
    "- - the hourly rate\n",
    "- - how much the week's paycheck will be\n",
    "write the python code that calculates the weekly paycheck. You get paid time and a half if you work more than 40 hours"
   ]
  },
  {
   "cell_type": "code",
   "execution_count": null,
   "metadata": {},
   "outputs": [],
   "source": []
  }
 ],
 "metadata": {
  "language_info": {
   "name": "python"
  },
  "orig_nbformat": 4
 },
 "nbformat": 4,
 "nbformat_minor": 2
}
