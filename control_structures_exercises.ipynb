{
 "cells": [
  {
   "cell_type": "markdown",
   "metadata": {},
   "source": [
    "### 1. Conditional Basics\n",
    "\n",
    "- prompt the user for a day of the week, print out whether the day is Monday or not\n",
    "\n",
    "- prompt the user for a day of the week, print out whether the day is a weekday or a weekend\n",
    "\n",
    "- create variables and make up values for\n",
    "- - the number of hours worked in one week\n",
    "- - the hourly rate\n",
    "- - how much the week's paycheck will be\n",
    "write the python code that calculates the weekly paycheck. You get paid time and a half if you work more than 40 hours"
   ]
  },
  {
   "cell_type": "code",
   "execution_count": 32,
   "metadata": {},
   "outputs": [],
   "source": [
    "from thefuzz import fuzz\n",
    "\n",
    "def checkMonday(day):\n",
    "    ratio = fuzz.WRatio(day.lower(), 'monday')\n",
    "    return ratio > 70\n",
    "\n",
    "def checkWeekend(day):\n",
    "    weekend = ['saturday','sunday']\n",
    "    for d in weekend:\n",
    "        ratio = fuzz.WRatio(day.lower(), d)\n",
    "        if ratio > 75: return True\n",
    "    return False"
   ]
  },
  {
   "cell_type": "code",
   "execution_count": 26,
   "metadata": {},
   "outputs": [
    {
     "name": "stdout",
     "output_type": "stream",
     "text": [
      "Today is Monday. Sadly, it is not the weekend.\n"
     ]
    }
   ],
   "source": [
    "\n",
    "dayInput = input('Day?')\n",
    "isMonday = checkMonday(dayInput)\n",
    "isWeekend = checkWeekend(dayInput)\n",
    "print(f'Today is{\"\" if isMonday else \" not\"} Monday. {\"Sadly, it is not\" if not isWeekend else \"But it is\"} the weekend.')"
   ]
  },
  {
   "cell_type": "markdown",
   "metadata": {},
   "source": [
    "Here is a bit of sanity testing for the problem above"
   ]
  },
  {
   "cell_type": "code",
   "execution_count": 33,
   "metadata": {},
   "outputs": [
    {
     "name": "stdout",
     "output_type": "stream",
     "text": [
      "Today is Monday. Sadly, it is not the weekend.\n",
      "Today is not Monday. Sadly, it is not the weekend.\n",
      "Today is not Monday. Sadly, it is not the weekend.\n",
      "Today is not Monday. Sadly, it is not the weekend.\n",
      "Today is not Monday. Sadly, it is not the weekend.\n",
      "Today is not Monday. But it is the weekend.\n",
      "Today is not Monday. But it is the weekend.\n"
     ]
    }
   ],
   "source": [
    "days = ['monday', 'tuesday', 'wednesday', 'thursday', 'friday', 'saturday', 'sunday']\n",
    "for d in days:\n",
    "    # print(fuzz.WRatio('monday', d))\n",
    "    # print(fuzz.WRatio('saturday', d))\n",
    "    # print(fuzz.WRatio('sunday', d))\n",
    "    isMonday = checkMonday(d)\n",
    "    isWeekend = checkWeekend(d)\n",
    "    print(f'Today is{\"\" if isMonday else \" not\"} Monday. {\"Sadly, it is not\" if not isWeekend else \"But it is\"} the weekend.')"
   ]
  },
  {
   "cell_type": "markdown",
   "metadata": {},
   "source": [
    "### Loop Basics\n",
    "\n",
    "#### While\n",
    "\n",
    " - Create an integer variable i with a value of 5.\n",
    " - Create a while loop that runs so long as i is less than or equal to 15\n",
    " - Each loop iteration, output the current value of i, then increment i by one.\n",
    " - Your output should look like this:\n",
    "\n",
    "```\n",
    "5\n",
    "6\n",
    "7\n",
    "8\n",
    "9\n",
    "10\n",
    "11\n",
    "12\n",
    "13\n",
    "14\n",
    "15\n",
    "```"
   ]
  },
  {
   "cell_type": "code",
   "execution_count": 34,
   "metadata": {},
   "outputs": [
    {
     "name": "stdout",
     "output_type": "stream",
     "text": [
      "5\n",
      "6\n",
      "7\n",
      "8\n",
      "9\n",
      "10\n",
      "11\n",
      "12\n",
      "13\n",
      "14\n",
      "15\n"
     ]
    }
   ],
   "source": [
    "i = 5\n",
    "while i <= 15:\n",
    "    print(i)\n",
    "    i += 1"
   ]
  },
  {
   "cell_type": "markdown",
   "metadata": {},
   "source": [
    " - Create a while loop that will count by 2's starting with 0 and ending at 100. Follow each number with a new line.\n",
    " - Alter your loop to count backwards by 5's from 100 to -10.\n",
    " - Create a while loop that starts at 2, and displays the number squared on each line while the number is less than 1,000,000. Output should equal:"
   ]
  },
  {
   "cell_type": "code",
   "execution_count": 37,
   "metadata": {},
   "outputs": [
    {
     "name": "stdout",
     "output_type": "stream",
     "text": [
      "i: 0\n",
      "i: 2\n",
      "i: 4\n",
      "i: 6\n",
      "i: 8\n",
      "i: 10\n",
      "i: 12\n",
      "i: 14\n",
      "i: 16\n",
      "i: 18\n",
      "i: 20\n",
      "i: 22\n",
      "i: 24\n",
      "i: 26\n",
      "i: 28\n",
      "i: 30\n",
      "i: 32\n",
      "i: 34\n",
      "i: 36\n",
      "i: 38\n",
      "i: 40\n",
      "i: 42\n",
      "i: 44\n",
      "i: 46\n",
      "i: 48\n",
      "i: 50\n",
      "i: 52\n",
      "i: 54\n",
      "i: 56\n",
      "i: 58\n",
      "i: 60\n",
      "i: 62\n",
      "i: 64\n",
      "i: 66\n",
      "i: 68\n",
      "i: 70\n",
      "i: 72\n",
      "i: 74\n",
      "i: 76\n",
      "i: 78\n",
      "i: 80\n",
      "i: 82\n",
      "i: 84\n",
      "i: 86\n",
      "i: 88\n",
      "i: 90\n",
      "i: 92\n",
      "i: 94\n",
      "i: 96\n",
      "i: 98\n",
      "i: 100\n"
     ]
    }
   ],
   "source": [
    "i = 0\n",
    "while i <=100: print('i:',i); i += 2\n"
   ]
  },
  {
   "cell_type": "code",
   "execution_count": 38,
   "metadata": {},
   "outputs": [
    {
     "name": "stdout",
     "output_type": "stream",
     "text": [
      "b: 100\n",
      "b: 95\n",
      "b: 90\n",
      "b: 85\n",
      "b: 80\n",
      "b: 75\n",
      "b: 70\n",
      "b: 65\n",
      "b: 60\n",
      "b: 55\n",
      "b: 50\n",
      "b: 45\n",
      "b: 40\n",
      "b: 35\n",
      "b: 30\n",
      "b: 25\n",
      "b: 20\n",
      "b: 15\n",
      "b: 10\n",
      "b: 5\n",
      "b: 0\n",
      "b: -5\n",
      "b: -10\n"
     ]
    }
   ],
   "source": [
    "\n",
    "b = 100\n",
    "while b >= -10: print('b:',b); b -= 5\n"
   ]
  },
  {
   "cell_type": "code",
   "execution_count": 41,
   "metadata": {},
   "outputs": [
    {
     "name": "stdout",
     "output_type": "stream",
     "text": [
      "n: 2\n",
      "n: 4\n",
      "n: 16\n",
      "n: 256\n",
      "n: 65536\n"
     ]
    }
   ],
   "source": [
    "n = 2\n",
    "while n < 1000000:\n",
    "    print('n:',n)\n",
    "    n = n**2"
   ]
  },
  {
   "cell_type": "markdown",
   "metadata": {},
   "source": [
    "Write a loop that uses print to create the output shown below.\n",
    "\n",
    "```\n",
    "100\n",
    "95\n",
    "90\n",
    "85\n",
    "80\n",
    "75\n",
    "70\n",
    "65\n",
    "60\n",
    "55\n",
    "50\n",
    "45\n",
    "40\n",
    "35\n",
    "30\n",
    "25\n",
    "20\n",
    "15\n",
    "10\n",
    "5\n",
    "```"
   ]
  },
  {
   "cell_type": "code",
   "execution_count": 42,
   "metadata": {},
   "outputs": [
    {
     "name": "stdout",
     "output_type": "stream",
     "text": [
      "b: 100\n",
      "b: 95\n",
      "b: 90\n",
      "b: 85\n",
      "b: 80\n",
      "b: 75\n",
      "b: 70\n",
      "b: 65\n",
      "b: 60\n",
      "b: 55\n",
      "b: 50\n",
      "b: 45\n",
      "b: 40\n",
      "b: 35\n",
      "b: 30\n",
      "b: 25\n",
      "b: 20\n",
      "b: 15\n",
      "b: 10\n",
      "b: 5\n"
     ]
    }
   ],
   "source": [
    "b = 100\n",
    "while b >= 5: print('b:',b); b -= 5"
   ]
  },
  {
   "cell_type": "markdown",
   "metadata": {},
   "source": [
    "### For Loops\n",
    "\n",
    " - Write some code that prompts the user for a number, then shows a multiplication table up through 10 for that number.\n",
    "\n",
    "For example, if the user enters 7, your program should output:\n",
    "\n",
    "```\n",
    "7 x 1 = 7\n",
    "7 x 2 = 14\n",
    "7 x 3 = 21\n",
    "7 x 4 = 28\n",
    "7 x 5 = 35\n",
    "7 x 6 = 42\n",
    "7 x 7 = 49\n",
    "7 x 8 = 56\n",
    "7 x 9 = 63\n",
    "7 x 10 = 70\n",
    "```"
   ]
  },
  {
   "cell_type": "code",
   "execution_count": 48,
   "metadata": {},
   "outputs": [
    {
     "name": "stdout",
     "output_type": "stream",
     "text": [
      "3 x 1 = 3\n",
      "3 x 2 = 6\n",
      "3 x 3 = 9\n",
      "3 x 4 = 12\n",
      "3 x 5 = 15\n",
      "3 x 6 = 18\n",
      "3 x 7 = 21\n",
      "3 x 8 = 24\n",
      "3 x 9 = 27\n",
      "3 x 10 = 30\n"
     ]
    }
   ],
   "source": [
    "def generateMultTable(num):\n",
    "    for n in range(1,11):\n",
    "        print(f\"{num} x {n} = {num*n}\")\n",
    "\n",
    "number = input(\"Enter a number.  I'll know if you lie.\")\n",
    "\n",
    "try:\n",
    "    int(number)\n",
    "except:\n",
    "    print(\"That's not a number.\")\n",
    "else:\n",
    "    generateMultTable(int(number))"
   ]
  },
  {
   "cell_type": "markdown",
   "metadata": {},
   "source": [
    "### Fizzbuzz\n",
    "\n",
    "One of the most common interview questions for entry-level programmers is the FizzBuzz test. Developed by Imran Ghory, the test is designed to test basic looping and conditional logic skills.\n",
    "\n",
    " - Write a program that prints the numbers from 1 to 100.\n",
    " - For multiples of three print \"Fizz\" instead of the number\n",
    " - For the multiples of five print \"Buzz\".\n",
    " - For numbers which are multiples of both three and five print \"FizzBuzz\"."
   ]
  },
  {
   "cell_type": "code",
   "execution_count": 52,
   "metadata": {},
   "outputs": [
    {
     "name": "stdout",
     "output_type": "stream",
     "text": [
      "1\n",
      "2\n",
      "fizz\n",
      "4\n",
      "buzz\n",
      "fizz\n",
      "7\n",
      "8\n",
      "fizz\n",
      "buzz\n",
      "11\n",
      "fizz\n",
      "13\n",
      "14\n",
      "fizzbuzz\n",
      "16\n",
      "17\n",
      "fizz\n",
      "19\n",
      "buzz\n",
      "fizz\n",
      "22\n",
      "23\n",
      "fizz\n",
      "buzz\n",
      "26\n",
      "fizz\n",
      "28\n",
      "29\n",
      "fizzbuzz\n",
      "31\n",
      "32\n",
      "fizz\n",
      "34\n",
      "buzz\n",
      "fizz\n",
      "37\n",
      "38\n",
      "fizz\n",
      "buzz\n",
      "41\n",
      "fizz\n",
      "43\n",
      "44\n",
      "fizzbuzz\n",
      "46\n",
      "47\n",
      "fizz\n",
      "49\n",
      "buzz\n",
      "fizz\n",
      "52\n",
      "53\n",
      "fizz\n",
      "buzz\n",
      "56\n",
      "fizz\n",
      "58\n",
      "59\n",
      "fizzbuzz\n",
      "61\n",
      "62\n",
      "fizz\n",
      "64\n",
      "buzz\n",
      "fizz\n",
      "67\n",
      "68\n",
      "fizz\n",
      "buzz\n",
      "71\n",
      "fizz\n",
      "73\n",
      "74\n",
      "fizzbuzz\n",
      "76\n",
      "77\n",
      "fizz\n",
      "79\n",
      "buzz\n",
      "fizz\n",
      "82\n",
      "83\n",
      "fizz\n",
      "buzz\n",
      "86\n",
      "fizz\n",
      "88\n",
      "89\n",
      "fizzbuzz\n",
      "91\n",
      "92\n",
      "fizz\n",
      "94\n",
      "buzz\n",
      "fizz\n",
      "97\n",
      "98\n",
      "fizz\n",
      "buzz\n"
     ]
    }
   ],
   "source": [
    "for n in range(1, 101):\n",
    "    fizz = n % 3 == 0\n",
    "    buzz = n % 5 == 0\n",
    "    print(f\"{n if not fizz and not buzz else ''}{'fizz' if fizz else ''}{'buzz' if buzz else ''}\")\n"
   ]
  },
  {
   "cell_type": "markdown",
   "metadata": {},
   "source": [
    "### Display a table of powers.\n",
    "\n",
    " - Prompt the user to enter an integer.\n",
    " - Display a table of squares and cubes from 1 to the value entered.\n",
    " - Ask if the user wants to continue.\n",
    " - Assume that the user will enter valid data.\n",
    " - Only continue if the user agrees to.\n",
    "\n",
    "Example Output\n",
    "```\n",
    "What number would you like to go up to? 5\n",
    "\n",
    "Here is your table!\n",
    "\n",
    "number | squared | cubed\n",
    "------ | ------- | -----\n",
    "1      | 1       | 1\n",
    "2      | 4       | 8\n",
    "3      | 9       | 27\n",
    "4      | 16      | 64\n",
    "5      | 25      | 125\n",
    "```\n",
    " - Bonus: Research python's format string specifiers to align the table\n"
   ]
  },
  {
   "cell_type": "code",
   "execution_count": 22,
   "metadata": {},
   "outputs": [
    {
     "name": "stdout",
     "output_type": "stream",
     "text": [
      "|one         |three       |\n",
      "|------------|------------|\n",
      "|1         |3         |\n"
     ]
    }
   ],
   "source": [
    "## Let's start off by defining some functions to use later.\n",
    "\n",
    "def continue_yes_no(question):\n",
    "    # Attempts to mimic the apt [Y/n] prompt using input()\n",
    "    # The intent is for this to drive a while loop. E.G. while continue_yes_no()\n",
    "    prompt = ' [Y/n]'\n",
    "    validResponse = {\"\": True, \"yes\": True, \"y\": True, \"ye\": True, \"no\": False, \"n\": False}\n",
    "    answer = input(question + prompt).lower()\n",
    "    return validResponse[answer]\n",
    "\n",
    "def print_table_row(values, align='<', width=10):\n",
    "    # Outputs a single row regardless of how many values are in that row.\n",
    "    master = ''\n",
    "    for value in values:\n",
    "        if align == 'left' or align == '<':\n",
    "            master += f\"|{value:<{width}}\"\n",
    "        elif align == 'right' or align == '>':\n",
    "            master += f\"|{value:>{width}}\"\n",
    "        elif align == 'center' or align == '^':\n",
    "            master += f\"|{value:^{width}}\"\n",
    "    master += '|'\n",
    "    print(master)\n",
    "\n",
    "def print_table_headers(values, align='^', width=10):\n",
    "    # Outputs a 'header' row followed by a separating line regardless of how many headers are in that row.\n",
    "    # The separating line should match the length of the header row.\n",
    "    count = len(values)\n",
    "    sepLine = ''\n",
    "    for i in range(0,count):\n",
    "        sepLine += f\"|{'':-^{width}}\"\n",
    "    sepLine += '|'\n",
    "    print_table_row(values, align, width)\n",
    "    print(sepLine)\n",
    "\n",
    "print_table_headers(['one','three'],'left' ,12)\n",
    "print_table_row([1,3],'<')"
   ]
  },
  {
   "cell_type": "code",
   "execution_count": 17,
   "metadata": {},
   "outputs": [
    {
     "name": "stdout",
     "output_type": "stream",
     "text": [
      "|  number  | squared  |  cubed   |\n",
      "|----------|----------|----------|\n",
      "|1         |1         |1         |\n",
      "|2         |4         |8         |\n",
      "|3         |9         |27        |\n",
      "|4         |16        |64        |\n",
      "|5         |25        |125       |\n"
     ]
    }
   ],
   "source": [
    "maxNum = input('What number would you like to go up to?')\n",
    "# maxNum = 5\n",
    "\n",
    "headers = ['number','squared','cubed']\n",
    "print_table_headers(headers)\n",
    "n = 1\n",
    "while n <= maxNum:\n",
    "    row = [n, n**2, n**3]\n",
    "    print_table_row(row)\n",
    "    n += 1\n",
    "while continue_yes_no('Continue?'):\n",
    "    row = [n, n**2, n**3]\n",
    "    print_table_row(row)\n",
    "    n += 1\n"
   ]
  },
  {
   "cell_type": "markdown",
   "metadata": {},
   "source": [
    "### Convert given number grades into letter grades.\n",
    "\n",
    " - Prompt the user for a numerical grade from 0 to 100.\n",
    " - Display the corresponding letter grade.\n",
    " - Prompt the user to continue.\n",
    " - Assume that the user will enter valid integers for the grades.\n",
    " - The application should only continue if the user agrees to.\n",
    " - Grade Ranges:\n",
    "\n",
    " - A : 100 - 88\n",
    " - B : 87 - 80\n",
    " - C : 79 - 67\n",
    " - D : 66 - 60\n",
    " - F : 59 - 0\n"
   ]
  },
  {
   "cell_type": "code",
   "execution_count": 32,
   "metadata": {},
   "outputs": [
    {
     "data": {
      "text/plain": [
       "'A'"
      ]
     },
     "execution_count": 32,
     "metadata": {},
     "output_type": "execute_result"
    }
   ],
   "source": [
    "def get_letter_grade(num):\n",
    "    gradeKey = {\n",
    "                'A+': range(100,200),\n",
    "                'A' : range(89 ,100),\n",
    "                'A-': range(88 , 89),\n",
    "                'B+': range(87 , 88),\n",
    "                'B' : range(81 , 87),\n",
    "                'B-': range(80 , 81),\n",
    "                'C+': range(79 , 80),\n",
    "                'C' : range(68 , 79),\n",
    "                'C-': range(67 , 68),\n",
    "                'D+': range(66 , 67),\n",
    "                'D' : range(61 , 66),\n",
    "                'D-': range(60 , 61),\n",
    "                'F' : range( 0 , 60)\n",
    "                }\n",
    "    for grade, v in gradeKey.items():\n",
    "        if num in v:\n",
    "            return grade\n",
    "\n",
    "# grade = int(input('Input a grade from 0 to 100'))\n",
    "grade = 89\n",
    "get_letter_grade(grade)"
   ]
  },
  {
   "cell_type": "code",
   "execution_count": 36,
   "metadata": {},
   "outputs": [
    {
     "name": "stdout",
     "output_type": "stream",
     "text": [
      "F\n",
      "C+\n",
      "A+\n",
      "B+\n"
     ]
    },
    {
     "ename": "ValueError",
     "evalue": "invalid literal for int() with base 10: 'n'",
     "output_type": "error",
     "traceback": [
      "\u001b[1;31m---------------------------------------------------------------------------\u001b[0m",
      "\u001b[1;31mValueError\u001b[0m                                Traceback (most recent call last)",
      "\u001b[1;32ma:\\github\\codeup-data-science\\python-exercises\\control_structures_exercises.ipynb Cell 23'\u001b[0m in \u001b[0;36m<cell line: 8>\u001b[1;34m()\u001b[0m\n\u001b[0;32m      <a href='vscode-notebook-cell:/a%3A/github/codeup-data-science/python-exercises/control_structures_exercises.ipynb#ch0000032?line=5'>6</a>\u001b[0m \u001b[39mprint\u001b[39m(get_letter_grade(grade))\n\u001b[0;32m      <a href='vscode-notebook-cell:/a%3A/github/codeup-data-science/python-exercises/control_structures_exercises.ipynb#ch0000032?line=7'>8</a>\u001b[0m \u001b[39mwhile\u001b[39;00m continue_yes_no(\u001b[39m'\u001b[39m\u001b[39mWould you like to grade another? \u001b[39m\u001b[39m'\u001b[39m):\n\u001b[1;32m----> <a href='vscode-notebook-cell:/a%3A/github/codeup-data-science/python-exercises/control_structures_exercises.ipynb#ch0000032?line=8'>9</a>\u001b[0m     grade \u001b[39m=\u001b[39m get_grade()\n\u001b[0;32m     <a href='vscode-notebook-cell:/a%3A/github/codeup-data-science/python-exercises/control_structures_exercises.ipynb#ch0000032?line=9'>10</a>\u001b[0m     \u001b[39mprint\u001b[39m(get_letter_grade(grade))\n",
      "\u001b[1;32ma:\\github\\codeup-data-science\\python-exercises\\control_structures_exercises.ipynb Cell 23'\u001b[0m in \u001b[0;36mget_grade\u001b[1;34m()\u001b[0m\n\u001b[0;32m      <a href='vscode-notebook-cell:/a%3A/github/codeup-data-science/python-exercises/control_structures_exercises.ipynb#ch0000032?line=0'>1</a>\u001b[0m \u001b[39mdef\u001b[39;00m \u001b[39mget_grade\u001b[39m():\n\u001b[0;32m      <a href='vscode-notebook-cell:/a%3A/github/codeup-data-science/python-exercises/control_structures_exercises.ipynb#ch0000032?line=1'>2</a>\u001b[0m     grade \u001b[39m=\u001b[39m \u001b[39minput\u001b[39m(\u001b[39m\"\u001b[39m\u001b[39mEnter a grade to convert: \u001b[39m\u001b[39m\"\u001b[39m)\n\u001b[1;32m----> <a href='vscode-notebook-cell:/a%3A/github/codeup-data-science/python-exercises/control_structures_exercises.ipynb#ch0000032?line=2'>3</a>\u001b[0m     \u001b[39mreturn\u001b[39;00m \u001b[39mint\u001b[39;49m(grade)\n",
      "\u001b[1;31mValueError\u001b[0m: invalid literal for int() with base 10: 'n'"
     ]
    }
   ],
   "source": [
    "def get_grade():\n",
    "    grade = input(\"Enter a grade to convert: \")\n",
    "    return int(grade)\n",
    "\n",
    "grade = get_grade()\n",
    "print(get_letter_grade(grade))\n",
    "\n",
    "while continue_yes_no('Would you like to grade another? '):\n",
    "    grade = get_grade()\n",
    "    print(get_letter_grade(grade))  "
   ]
  }
 ],
 "metadata": {
  "interpreter": {
   "hash": "37b4e1d782780d9803a775659fc8b81e9cc61a0899d4564192c1f7cc3c556e45"
  },
  "kernelspec": {
   "display_name": "Python 3.10.4 64-bit",
   "language": "python",
   "name": "python3"
  },
  "language_info": {
   "codemirror_mode": {
    "name": "ipython",
    "version": 3
   },
   "file_extension": ".py",
   "mimetype": "text/x-python",
   "name": "python",
   "nbconvert_exporter": "python",
   "pygments_lexer": "ipython3",
   "version": "3.10.4"
  },
  "orig_nbformat": 4
 },
 "nbformat": 4,
 "nbformat_minor": 2
}
